{
  "nbformat": 4,
  "nbformat_minor": 0,
  "metadata": {
    "colab": {
      "provenance": [],
      "gpuType": "T4"
    },
    "kernelspec": {
      "name": "python3",
      "display_name": "Python 3"
    },
    "language_info": {
      "name": "python"
    },
    "accelerator": "GPU"
  },
  "cells": [
    {
      "cell_type": "code",
      "execution_count": null,
      "metadata": {
        "id": "E2fPMk6zkiVK"
      },
      "outputs": [],
      "source": [
        "import os\n",
        "import numpy as np\n",
        "import tensorflow as tf\n",
        "from tensorflow.keras import layers, models, losses, optimizers\n",
        "from sklearn.model_selection import train_test_split\n",
        "import matplotlib.pyplot as plt"
      ]
    },
    {
      "cell_type": "code",
      "source": [
        "# ------------------------------\n",
        "# Utility / Data\n",
        "# ------------------------------\n",
        "\n",
        "\n",
        "# Vocabulary: lowercase letters + space\n",
        "VOCAB = list(\"abcdefghijklmnopqrstuvwxyz \")\n",
        "VOCAB_SIZE = len(VOCAB) # 27\n",
        "CHAR_TO_IDX = {c: i for i, c in enumerate(VOCAB)}\n",
        "IDX_TO_CHAR = {i: c for c, i in CHAR_TO_IDX.items()}"
      ],
      "metadata": {
        "id": "MhcZAE1Vkmts"
      },
      "execution_count": null,
      "outputs": []
    },
    {
      "cell_type": "code",
      "source": [
        "def random_text_messages(n_samples=10000, msg_len=8):\n",
        "    # generate random messages from VOCAB\n",
        "    arr = np.random.randint(0, VOCAB_SIZE, size=(n_samples, msg_len))\n",
        "    return arr # shape (n_samples, msg_len)\n",
        "\n",
        "\n",
        "def one_hot_encode(arr):\n",
        "    # arr shape: (n_samples, msg_len) ints\n",
        "    return tf.one_hot(arr, depth=VOCAB_SIZE)"
      ],
      "metadata": {
        "id": "PCi389LPktGN"
      },
      "execution_count": null,
      "outputs": []
    },
    {
      "cell_type": "code",
      "source": [
        "# Key: random binary vector for each message.\n",
        "# We'll use a key vector of length equal to message length * key_dim\n",
        "\n",
        "\n",
        "def random_keys(n_samples=10000, key_len=16):\n",
        "    # keys are real-valued in [-1,1] to give network flexibility\n",
        "    return np.random.uniform(-1, 1, size=(n_samples, key_len)).astype(np.float32)\n",
        "\n",
        "\n",
        "# Convert one-hot predictions back to int messages\n",
        "\n",
        "\n",
        "def onehot_to_ints(onehot_tensor):\n",
        "    # expects shape (batch, msg_len, vocab)\n",
        "    return np.argmax(onehot_tensor, axis=-1)"
      ],
      "metadata": {
        "id": "e3pJDRV6kwcK"
      },
      "execution_count": null,
      "outputs": []
    },
    {
      "cell_type": "code",
      "source": [
        "# Accuracy per character\n",
        "\n",
        "\n",
        "def char_accuracy(y_true_ints, y_pred_ints):\n",
        "    return np.mean(y_true_ints == y_pred_ints)"
      ],
      "metadata": {
        "id": "DDJgYwGmk5-x"
      },
      "execution_count": null,
      "outputs": []
    },
    {
      "cell_type": "code",
      "source": [
        "# ------------------------------\n",
        "# Model definitions\n",
        "# ------------------------------\n",
        "\n",
        "\n",
        "def build_alice(msg_len, vocab_size, key_len, hidden=256):\n",
        "    # Alice: takes message one-hot (msg_len*vocab) and key vector -> ciphertext vector\n",
        "    msg_input = layers.Input(shape=(msg_len, vocab_size), name='alice_msg')\n",
        "    key_input = layers.Input(shape=(key_len,), name='alice_key')\n",
        "\n",
        "\n",
        "    x = layers.Flatten()(msg_input)\n",
        "    x = layers.Concatenate()([x, key_input])\n",
        "    x = layers.Dense(hidden, activation='relu')(x)\n",
        "    x = layers.Dense(hidden, activation='relu')(x)\n",
        "    # output ciphertext vector (we'll produce a vector, which can be split into msg_len * vocab logits)\n",
        "    out_dim = msg_len * vocab_size\n",
        "    ciphertext = layers.Dense(out_dim, activation='tanh', name='ciphertext')(x)\n",
        "    ciphertext = layers.Reshape((msg_len, vocab_size))(ciphertext)\n",
        "\n",
        "\n",
        "    return models.Model(inputs=[msg_input, key_input], outputs=ciphertext, name='Alice')"
      ],
      "metadata": {
        "id": "m4CoH7n9k-nd"
      },
      "execution_count": null,
      "outputs": []
    },
    {
      "cell_type": "code",
      "source": [
        "def build_bob(msg_len, vocab_size, key_len, hidden=256):\n",
        "    # Bob: takes ciphertext and key -> reconstruct message (softmax over vocab for each position)\n",
        "    ct_input = layers.Input(shape=(msg_len, vocab_size), name='ciphertext')\n",
        "    key_input = layers.Input(shape=(key_len,), name='bob_key')\n",
        "\n",
        "\n",
        "    x = layers.Flatten()(ct_input)\n",
        "    x = layers.Concatenate()([x, key_input])\n",
        "    x = layers.Dense(hidden, activation='relu')(x)\n",
        "    x = layers.Dense(hidden, activation='relu')(x)\n",
        "    out_dim = msg_len * vocab_size\n",
        "    logits = layers.Dense(out_dim)(x)\n",
        "    logits = layers.Reshape((msg_len, vocab_size))(logits)\n",
        "    out = layers.Activation('softmax')(logits)\n",
        "\n",
        "\n",
        "    return models.Model(inputs=[ct_input, key_input], outputs=out, name='Bob')"
      ],
      "metadata": {
        "id": "96Uq7vX8lCZV"
      },
      "execution_count": null,
      "outputs": []
    },
    {
      "cell_type": "code",
      "source": [
        "def build_eve(msg_len, vocab_size, hidden=256):\n",
        "    # Eve: takes ciphertext only -> guess message\n",
        "    ct_input = layers.Input(shape=(msg_len, vocab_size), name='ciphertext')\n",
        "    x = layers.Flatten()(ct_input)\n",
        "    x = layers.Dense(hidden, activation='relu')(x)\n",
        "    x = layers.Dense(hidden, activation='relu')(x)\n",
        "    out_dim = msg_len * vocab_size\n",
        "    logits = layers.Dense(out_dim)(x)\n",
        "    logits = layers.Reshape((msg_len, vocab_size))(logits)\n",
        "    out = layers.Activation('softmax')(logits)\n",
        "    return models.Model(inputs=ct_input, outputs=out, name='Eve')"
      ],
      "metadata": {
        "id": "B57wdEpDlFth"
      },
      "execution_count": null,
      "outputs": []
    },
    {
      "cell_type": "code",
      "source": [
        "# ------------------------------\n",
        "# Hyperparameters\n",
        "# ------------------------------\n",
        "MSG_LEN = 8\n",
        "KEY_LEN = 32\n",
        "N_SAMPLES = 20000\n",
        "BATCH_SIZE = 128\n",
        "EPOCHS = 30\n",
        "ALICE_BOB_STEPS = 1 # per batch\n",
        "EVE_STEPS = 1\n",
        "LEARNING_RATE = 1e-3\n",
        "LAMBDA = 1.0 # weight for penalizing Eve in Alice loss (alice_loss = bob_loss - lambda * eve_loss)"
      ],
      "metadata": {
        "id": "JX-qwj0KlIVC"
      },
      "execution_count": null,
      "outputs": []
    },
    {
      "cell_type": "code",
      "source": [
        "# ------------------------------\n",
        "# Prepare dataset\n",
        "# ------------------------------\n",
        "\n",
        "\n",
        "raw_messages = random_text_messages(N_SAMPLES, MSG_LEN)\n",
        "X_onehot = one_hot_encode(raw_messages).numpy().astype(np.float32) # shape (N, msg_len, vocab)\n",
        "K = random_keys(N_SAMPLES, KEY_LEN)\n",
        "\n",
        "\n",
        "# Train/Val/Test split\n",
        "X_train, X_temp, K_train, K_temp, y_train, y_temp = train_test_split(\n",
        "X_onehot, K, raw_messages, test_size=0.3, random_state=42)\n",
        "X_val, X_test, K_val, K_test, y_val, y_test = train_test_split(\n",
        "X_temp, K_temp, y_temp, test_size=0.5, random_state=42)\n",
        "\n",
        "\n",
        "print('Shapes:', X_train.shape, K_train.shape, y_train.shape)"
      ],
      "metadata": {
        "colab": {
          "base_uri": "https://localhost:8080/"
        },
        "id": "AMFUOMAUlKbV",
        "outputId": "0f02906c-672e-494b-e966-5e3980c67f80"
      },
      "execution_count": null,
      "outputs": [
        {
          "output_type": "stream",
          "name": "stdout",
          "text": [
            "Shapes: (14000, 8, 27) (14000, 32) (14000, 8)\n"
          ]
        }
      ]
    },
    {
      "cell_type": "code",
      "source": [
        "# ------------------------------\n",
        "# Build models and optimizers\n",
        "# ------------------------------\n",
        "\n",
        "\n",
        "alice = build_alice(MSG_LEN, VOCAB_SIZE, KEY_LEN)\n",
        "bob = build_bob(MSG_LEN, VOCAB_SIZE, KEY_LEN)\n",
        "eve = build_eve(MSG_LEN, VOCAB_SIZE)\n",
        "\n",
        "\n",
        "alice.summary()\n",
        "bob.summary()\n",
        "eve.summary()\n",
        "\n",
        "\n",
        "opt_ab = optimizers.Adam(LEARNING_RATE)\n",
        "opt_e = optimizers.Adam(LEARNING_RATE)"
      ],
      "metadata": {
        "colab": {
          "base_uri": "https://localhost:8080/",
          "height": 1000
        },
        "id": "qa8bRH4glMip",
        "outputId": "8cfdcd96-5144-4c9e-ecd3-50973cc4ef7c"
      },
      "execution_count": null,
      "outputs": [
        {
          "output_type": "display_data",
          "data": {
            "text/plain": [
              "\u001b[1mModel: \"Alice\"\u001b[0m\n"
            ],
            "text/html": [
              "<pre style=\"white-space:pre;overflow-x:auto;line-height:normal;font-family:Menlo,'DejaVu Sans Mono',consolas,'Courier New',monospace\"><span style=\"font-weight: bold\">Model: \"Alice\"</span>\n",
              "</pre>\n"
            ]
          },
          "metadata": {}
        },
        {
          "output_type": "display_data",
          "data": {
            "text/plain": [
              "┏━━━━━━━━━━━━━━━━━━━━━┳━━━━━━━━━━━━━━━━━━━┳━━━━━━━━━━━━┳━━━━━━━━━━━━━━━━━━━┓\n",
              "┃\u001b[1m \u001b[0m\u001b[1mLayer (type)       \u001b[0m\u001b[1m \u001b[0m┃\u001b[1m \u001b[0m\u001b[1mOutput Shape     \u001b[0m\u001b[1m \u001b[0m┃\u001b[1m \u001b[0m\u001b[1m   Param #\u001b[0m\u001b[1m \u001b[0m┃\u001b[1m \u001b[0m\u001b[1mConnected to     \u001b[0m\u001b[1m \u001b[0m┃\n",
              "┡━━━━━━━━━━━━━━━━━━━━━╇━━━━━━━━━━━━━━━━━━━╇━━━━━━━━━━━━╇━━━━━━━━━━━━━━━━━━━┩\n",
              "│ alice_msg           │ (\u001b[38;5;45mNone\u001b[0m, \u001b[38;5;34m8\u001b[0m, \u001b[38;5;34m27\u001b[0m)     │          \u001b[38;5;34m0\u001b[0m │ -                 │\n",
              "│ (\u001b[38;5;33mInputLayer\u001b[0m)        │                   │            │                   │\n",
              "├─────────────────────┼───────────────────┼────────────┼───────────────────┤\n",
              "│ flatten (\u001b[38;5;33mFlatten\u001b[0m)   │ (\u001b[38;5;45mNone\u001b[0m, \u001b[38;5;34m216\u001b[0m)       │          \u001b[38;5;34m0\u001b[0m │ alice_msg[\u001b[38;5;34m0\u001b[0m][\u001b[38;5;34m0\u001b[0m]   │\n",
              "├─────────────────────┼───────────────────┼────────────┼───────────────────┤\n",
              "│ alice_key           │ (\u001b[38;5;45mNone\u001b[0m, \u001b[38;5;34m32\u001b[0m)        │          \u001b[38;5;34m0\u001b[0m │ -                 │\n",
              "│ (\u001b[38;5;33mInputLayer\u001b[0m)        │                   │            │                   │\n",
              "├─────────────────────┼───────────────────┼────────────┼───────────────────┤\n",
              "│ concatenate         │ (\u001b[38;5;45mNone\u001b[0m, \u001b[38;5;34m248\u001b[0m)       │          \u001b[38;5;34m0\u001b[0m │ flatten[\u001b[38;5;34m0\u001b[0m][\u001b[38;5;34m0\u001b[0m],    │\n",
              "│ (\u001b[38;5;33mConcatenate\u001b[0m)       │                   │            │ alice_key[\u001b[38;5;34m0\u001b[0m][\u001b[38;5;34m0\u001b[0m]   │\n",
              "├─────────────────────┼───────────────────┼────────────┼───────────────────┤\n",
              "│ dense (\u001b[38;5;33mDense\u001b[0m)       │ (\u001b[38;5;45mNone\u001b[0m, \u001b[38;5;34m256\u001b[0m)       │     \u001b[38;5;34m63,744\u001b[0m │ concatenate[\u001b[38;5;34m0\u001b[0m][\u001b[38;5;34m0\u001b[0m] │\n",
              "├─────────────────────┼───────────────────┼────────────┼───────────────────┤\n",
              "│ dense_1 (\u001b[38;5;33mDense\u001b[0m)     │ (\u001b[38;5;45mNone\u001b[0m, \u001b[38;5;34m256\u001b[0m)       │     \u001b[38;5;34m65,792\u001b[0m │ dense[\u001b[38;5;34m0\u001b[0m][\u001b[38;5;34m0\u001b[0m]       │\n",
              "├─────────────────────┼───────────────────┼────────────┼───────────────────┤\n",
              "│ ciphertext (\u001b[38;5;33mDense\u001b[0m)  │ (\u001b[38;5;45mNone\u001b[0m, \u001b[38;5;34m216\u001b[0m)       │     \u001b[38;5;34m55,512\u001b[0m │ dense_1[\u001b[38;5;34m0\u001b[0m][\u001b[38;5;34m0\u001b[0m]     │\n",
              "├─────────────────────┼───────────────────┼────────────┼───────────────────┤\n",
              "│ reshape (\u001b[38;5;33mReshape\u001b[0m)   │ (\u001b[38;5;45mNone\u001b[0m, \u001b[38;5;34m8\u001b[0m, \u001b[38;5;34m27\u001b[0m)     │          \u001b[38;5;34m0\u001b[0m │ ciphertext[\u001b[38;5;34m0\u001b[0m][\u001b[38;5;34m0\u001b[0m]  │\n",
              "└─────────────────────┴───────────────────┴────────────┴───────────────────┘\n"
            ],
            "text/html": [
              "<pre style=\"white-space:pre;overflow-x:auto;line-height:normal;font-family:Menlo,'DejaVu Sans Mono',consolas,'Courier New',monospace\">┏━━━━━━━━━━━━━━━━━━━━━┳━━━━━━━━━━━━━━━━━━━┳━━━━━━━━━━━━┳━━━━━━━━━━━━━━━━━━━┓\n",
              "┃<span style=\"font-weight: bold\"> Layer (type)        </span>┃<span style=\"font-weight: bold\"> Output Shape      </span>┃<span style=\"font-weight: bold\">    Param # </span>┃<span style=\"font-weight: bold\"> Connected to      </span>┃\n",
              "┡━━━━━━━━━━━━━━━━━━━━━╇━━━━━━━━━━━━━━━━━━━╇━━━━━━━━━━━━╇━━━━━━━━━━━━━━━━━━━┩\n",
              "│ alice_msg           │ (<span style=\"color: #00d7ff; text-decoration-color: #00d7ff\">None</span>, <span style=\"color: #00af00; text-decoration-color: #00af00\">8</span>, <span style=\"color: #00af00; text-decoration-color: #00af00\">27</span>)     │          <span style=\"color: #00af00; text-decoration-color: #00af00\">0</span> │ -                 │\n",
              "│ (<span style=\"color: #0087ff; text-decoration-color: #0087ff\">InputLayer</span>)        │                   │            │                   │\n",
              "├─────────────────────┼───────────────────┼────────────┼───────────────────┤\n",
              "│ flatten (<span style=\"color: #0087ff; text-decoration-color: #0087ff\">Flatten</span>)   │ (<span style=\"color: #00d7ff; text-decoration-color: #00d7ff\">None</span>, <span style=\"color: #00af00; text-decoration-color: #00af00\">216</span>)       │          <span style=\"color: #00af00; text-decoration-color: #00af00\">0</span> │ alice_msg[<span style=\"color: #00af00; text-decoration-color: #00af00\">0</span>][<span style=\"color: #00af00; text-decoration-color: #00af00\">0</span>]   │\n",
              "├─────────────────────┼───────────────────┼────────────┼───────────────────┤\n",
              "│ alice_key           │ (<span style=\"color: #00d7ff; text-decoration-color: #00d7ff\">None</span>, <span style=\"color: #00af00; text-decoration-color: #00af00\">32</span>)        │          <span style=\"color: #00af00; text-decoration-color: #00af00\">0</span> │ -                 │\n",
              "│ (<span style=\"color: #0087ff; text-decoration-color: #0087ff\">InputLayer</span>)        │                   │            │                   │\n",
              "├─────────────────────┼───────────────────┼────────────┼───────────────────┤\n",
              "│ concatenate         │ (<span style=\"color: #00d7ff; text-decoration-color: #00d7ff\">None</span>, <span style=\"color: #00af00; text-decoration-color: #00af00\">248</span>)       │          <span style=\"color: #00af00; text-decoration-color: #00af00\">0</span> │ flatten[<span style=\"color: #00af00; text-decoration-color: #00af00\">0</span>][<span style=\"color: #00af00; text-decoration-color: #00af00\">0</span>],    │\n",
              "│ (<span style=\"color: #0087ff; text-decoration-color: #0087ff\">Concatenate</span>)       │                   │            │ alice_key[<span style=\"color: #00af00; text-decoration-color: #00af00\">0</span>][<span style=\"color: #00af00; text-decoration-color: #00af00\">0</span>]   │\n",
              "├─────────────────────┼───────────────────┼────────────┼───────────────────┤\n",
              "│ dense (<span style=\"color: #0087ff; text-decoration-color: #0087ff\">Dense</span>)       │ (<span style=\"color: #00d7ff; text-decoration-color: #00d7ff\">None</span>, <span style=\"color: #00af00; text-decoration-color: #00af00\">256</span>)       │     <span style=\"color: #00af00; text-decoration-color: #00af00\">63,744</span> │ concatenate[<span style=\"color: #00af00; text-decoration-color: #00af00\">0</span>][<span style=\"color: #00af00; text-decoration-color: #00af00\">0</span>] │\n",
              "├─────────────────────┼───────────────────┼────────────┼───────────────────┤\n",
              "│ dense_1 (<span style=\"color: #0087ff; text-decoration-color: #0087ff\">Dense</span>)     │ (<span style=\"color: #00d7ff; text-decoration-color: #00d7ff\">None</span>, <span style=\"color: #00af00; text-decoration-color: #00af00\">256</span>)       │     <span style=\"color: #00af00; text-decoration-color: #00af00\">65,792</span> │ dense[<span style=\"color: #00af00; text-decoration-color: #00af00\">0</span>][<span style=\"color: #00af00; text-decoration-color: #00af00\">0</span>]       │\n",
              "├─────────────────────┼───────────────────┼────────────┼───────────────────┤\n",
              "│ ciphertext (<span style=\"color: #0087ff; text-decoration-color: #0087ff\">Dense</span>)  │ (<span style=\"color: #00d7ff; text-decoration-color: #00d7ff\">None</span>, <span style=\"color: #00af00; text-decoration-color: #00af00\">216</span>)       │     <span style=\"color: #00af00; text-decoration-color: #00af00\">55,512</span> │ dense_1[<span style=\"color: #00af00; text-decoration-color: #00af00\">0</span>][<span style=\"color: #00af00; text-decoration-color: #00af00\">0</span>]     │\n",
              "├─────────────────────┼───────────────────┼────────────┼───────────────────┤\n",
              "│ reshape (<span style=\"color: #0087ff; text-decoration-color: #0087ff\">Reshape</span>)   │ (<span style=\"color: #00d7ff; text-decoration-color: #00d7ff\">None</span>, <span style=\"color: #00af00; text-decoration-color: #00af00\">8</span>, <span style=\"color: #00af00; text-decoration-color: #00af00\">27</span>)     │          <span style=\"color: #00af00; text-decoration-color: #00af00\">0</span> │ ciphertext[<span style=\"color: #00af00; text-decoration-color: #00af00\">0</span>][<span style=\"color: #00af00; text-decoration-color: #00af00\">0</span>]  │\n",
              "└─────────────────────┴───────────────────┴────────────┴───────────────────┘\n",
              "</pre>\n"
            ]
          },
          "metadata": {}
        },
        {
          "output_type": "display_data",
          "data": {
            "text/plain": [
              "\u001b[1m Total params: \u001b[0m\u001b[38;5;34m185,048\u001b[0m (722.84 KB)\n"
            ],
            "text/html": [
              "<pre style=\"white-space:pre;overflow-x:auto;line-height:normal;font-family:Menlo,'DejaVu Sans Mono',consolas,'Courier New',monospace\"><span style=\"font-weight: bold\"> Total params: </span><span style=\"color: #00af00; text-decoration-color: #00af00\">185,048</span> (722.84 KB)\n",
              "</pre>\n"
            ]
          },
          "metadata": {}
        },
        {
          "output_type": "display_data",
          "data": {
            "text/plain": [
              "\u001b[1m Trainable params: \u001b[0m\u001b[38;5;34m185,048\u001b[0m (722.84 KB)\n"
            ],
            "text/html": [
              "<pre style=\"white-space:pre;overflow-x:auto;line-height:normal;font-family:Menlo,'DejaVu Sans Mono',consolas,'Courier New',monospace\"><span style=\"font-weight: bold\"> Trainable params: </span><span style=\"color: #00af00; text-decoration-color: #00af00\">185,048</span> (722.84 KB)\n",
              "</pre>\n"
            ]
          },
          "metadata": {}
        },
        {
          "output_type": "display_data",
          "data": {
            "text/plain": [
              "\u001b[1m Non-trainable params: \u001b[0m\u001b[38;5;34m0\u001b[0m (0.00 B)\n"
            ],
            "text/html": [
              "<pre style=\"white-space:pre;overflow-x:auto;line-height:normal;font-family:Menlo,'DejaVu Sans Mono',consolas,'Courier New',monospace\"><span style=\"font-weight: bold\"> Non-trainable params: </span><span style=\"color: #00af00; text-decoration-color: #00af00\">0</span> (0.00 B)\n",
              "</pre>\n"
            ]
          },
          "metadata": {}
        },
        {
          "output_type": "display_data",
          "data": {
            "text/plain": [
              "\u001b[1mModel: \"Bob\"\u001b[0m\n"
            ],
            "text/html": [
              "<pre style=\"white-space:pre;overflow-x:auto;line-height:normal;font-family:Menlo,'DejaVu Sans Mono',consolas,'Courier New',monospace\"><span style=\"font-weight: bold\">Model: \"Bob\"</span>\n",
              "</pre>\n"
            ]
          },
          "metadata": {}
        },
        {
          "output_type": "display_data",
          "data": {
            "text/plain": [
              "┏━━━━━━━━━━━━━━━━━━━━━┳━━━━━━━━━━━━━━━━━━━┳━━━━━━━━━━━━┳━━━━━━━━━━━━━━━━━━━┓\n",
              "┃\u001b[1m \u001b[0m\u001b[1mLayer (type)       \u001b[0m\u001b[1m \u001b[0m┃\u001b[1m \u001b[0m\u001b[1mOutput Shape     \u001b[0m\u001b[1m \u001b[0m┃\u001b[1m \u001b[0m\u001b[1m   Param #\u001b[0m\u001b[1m \u001b[0m┃\u001b[1m \u001b[0m\u001b[1mConnected to     \u001b[0m\u001b[1m \u001b[0m┃\n",
              "┡━━━━━━━━━━━━━━━━━━━━━╇━━━━━━━━━━━━━━━━━━━╇━━━━━━━━━━━━╇━━━━━━━━━━━━━━━━━━━┩\n",
              "│ ciphertext          │ (\u001b[38;5;45mNone\u001b[0m, \u001b[38;5;34m8\u001b[0m, \u001b[38;5;34m27\u001b[0m)     │          \u001b[38;5;34m0\u001b[0m │ -                 │\n",
              "│ (\u001b[38;5;33mInputLayer\u001b[0m)        │                   │            │                   │\n",
              "├─────────────────────┼───────────────────┼────────────┼───────────────────┤\n",
              "│ flatten_1 (\u001b[38;5;33mFlatten\u001b[0m) │ (\u001b[38;5;45mNone\u001b[0m, \u001b[38;5;34m216\u001b[0m)       │          \u001b[38;5;34m0\u001b[0m │ ciphertext[\u001b[38;5;34m0\u001b[0m][\u001b[38;5;34m0\u001b[0m]  │\n",
              "├─────────────────────┼───────────────────┼────────────┼───────────────────┤\n",
              "│ bob_key             │ (\u001b[38;5;45mNone\u001b[0m, \u001b[38;5;34m32\u001b[0m)        │          \u001b[38;5;34m0\u001b[0m │ -                 │\n",
              "│ (\u001b[38;5;33mInputLayer\u001b[0m)        │                   │            │                   │\n",
              "├─────────────────────┼───────────────────┼────────────┼───────────────────┤\n",
              "│ concatenate_1       │ (\u001b[38;5;45mNone\u001b[0m, \u001b[38;5;34m248\u001b[0m)       │          \u001b[38;5;34m0\u001b[0m │ flatten_1[\u001b[38;5;34m0\u001b[0m][\u001b[38;5;34m0\u001b[0m],  │\n",
              "│ (\u001b[38;5;33mConcatenate\u001b[0m)       │                   │            │ bob_key[\u001b[38;5;34m0\u001b[0m][\u001b[38;5;34m0\u001b[0m]     │\n",
              "├─────────────────────┼───────────────────┼────────────┼───────────────────┤\n",
              "│ dense_2 (\u001b[38;5;33mDense\u001b[0m)     │ (\u001b[38;5;45mNone\u001b[0m, \u001b[38;5;34m256\u001b[0m)       │     \u001b[38;5;34m63,744\u001b[0m │ concatenate_1[\u001b[38;5;34m0\u001b[0m]… │\n",
              "├─────────────────────┼───────────────────┼────────────┼───────────────────┤\n",
              "│ dense_3 (\u001b[38;5;33mDense\u001b[0m)     │ (\u001b[38;5;45mNone\u001b[0m, \u001b[38;5;34m256\u001b[0m)       │     \u001b[38;5;34m65,792\u001b[0m │ dense_2[\u001b[38;5;34m0\u001b[0m][\u001b[38;5;34m0\u001b[0m]     │\n",
              "├─────────────────────┼───────────────────┼────────────┼───────────────────┤\n",
              "│ dense_4 (\u001b[38;5;33mDense\u001b[0m)     │ (\u001b[38;5;45mNone\u001b[0m, \u001b[38;5;34m216\u001b[0m)       │     \u001b[38;5;34m55,512\u001b[0m │ dense_3[\u001b[38;5;34m0\u001b[0m][\u001b[38;5;34m0\u001b[0m]     │\n",
              "├─────────────────────┼───────────────────┼────────────┼───────────────────┤\n",
              "│ reshape_1 (\u001b[38;5;33mReshape\u001b[0m) │ (\u001b[38;5;45mNone\u001b[0m, \u001b[38;5;34m8\u001b[0m, \u001b[38;5;34m27\u001b[0m)     │          \u001b[38;5;34m0\u001b[0m │ dense_4[\u001b[38;5;34m0\u001b[0m][\u001b[38;5;34m0\u001b[0m]     │\n",
              "├─────────────────────┼───────────────────┼────────────┼───────────────────┤\n",
              "│ activation          │ (\u001b[38;5;45mNone\u001b[0m, \u001b[38;5;34m8\u001b[0m, \u001b[38;5;34m27\u001b[0m)     │          \u001b[38;5;34m0\u001b[0m │ reshape_1[\u001b[38;5;34m0\u001b[0m][\u001b[38;5;34m0\u001b[0m]   │\n",
              "│ (\u001b[38;5;33mActivation\u001b[0m)        │                   │            │                   │\n",
              "└─────────────────────┴───────────────────┴────────────┴───────────────────┘\n"
            ],
            "text/html": [
              "<pre style=\"white-space:pre;overflow-x:auto;line-height:normal;font-family:Menlo,'DejaVu Sans Mono',consolas,'Courier New',monospace\">┏━━━━━━━━━━━━━━━━━━━━━┳━━━━━━━━━━━━━━━━━━━┳━━━━━━━━━━━━┳━━━━━━━━━━━━━━━━━━━┓\n",
              "┃<span style=\"font-weight: bold\"> Layer (type)        </span>┃<span style=\"font-weight: bold\"> Output Shape      </span>┃<span style=\"font-weight: bold\">    Param # </span>┃<span style=\"font-weight: bold\"> Connected to      </span>┃\n",
              "┡━━━━━━━━━━━━━━━━━━━━━╇━━━━━━━━━━━━━━━━━━━╇━━━━━━━━━━━━╇━━━━━━━━━━━━━━━━━━━┩\n",
              "│ ciphertext          │ (<span style=\"color: #00d7ff; text-decoration-color: #00d7ff\">None</span>, <span style=\"color: #00af00; text-decoration-color: #00af00\">8</span>, <span style=\"color: #00af00; text-decoration-color: #00af00\">27</span>)     │          <span style=\"color: #00af00; text-decoration-color: #00af00\">0</span> │ -                 │\n",
              "│ (<span style=\"color: #0087ff; text-decoration-color: #0087ff\">InputLayer</span>)        │                   │            │                   │\n",
              "├─────────────────────┼───────────────────┼────────────┼───────────────────┤\n",
              "│ flatten_1 (<span style=\"color: #0087ff; text-decoration-color: #0087ff\">Flatten</span>) │ (<span style=\"color: #00d7ff; text-decoration-color: #00d7ff\">None</span>, <span style=\"color: #00af00; text-decoration-color: #00af00\">216</span>)       │          <span style=\"color: #00af00; text-decoration-color: #00af00\">0</span> │ ciphertext[<span style=\"color: #00af00; text-decoration-color: #00af00\">0</span>][<span style=\"color: #00af00; text-decoration-color: #00af00\">0</span>]  │\n",
              "├─────────────────────┼───────────────────┼────────────┼───────────────────┤\n",
              "│ bob_key             │ (<span style=\"color: #00d7ff; text-decoration-color: #00d7ff\">None</span>, <span style=\"color: #00af00; text-decoration-color: #00af00\">32</span>)        │          <span style=\"color: #00af00; text-decoration-color: #00af00\">0</span> │ -                 │\n",
              "│ (<span style=\"color: #0087ff; text-decoration-color: #0087ff\">InputLayer</span>)        │                   │            │                   │\n",
              "├─────────────────────┼───────────────────┼────────────┼───────────────────┤\n",
              "│ concatenate_1       │ (<span style=\"color: #00d7ff; text-decoration-color: #00d7ff\">None</span>, <span style=\"color: #00af00; text-decoration-color: #00af00\">248</span>)       │          <span style=\"color: #00af00; text-decoration-color: #00af00\">0</span> │ flatten_1[<span style=\"color: #00af00; text-decoration-color: #00af00\">0</span>][<span style=\"color: #00af00; text-decoration-color: #00af00\">0</span>],  │\n",
              "│ (<span style=\"color: #0087ff; text-decoration-color: #0087ff\">Concatenate</span>)       │                   │            │ bob_key[<span style=\"color: #00af00; text-decoration-color: #00af00\">0</span>][<span style=\"color: #00af00; text-decoration-color: #00af00\">0</span>]     │\n",
              "├─────────────────────┼───────────────────┼────────────┼───────────────────┤\n",
              "│ dense_2 (<span style=\"color: #0087ff; text-decoration-color: #0087ff\">Dense</span>)     │ (<span style=\"color: #00d7ff; text-decoration-color: #00d7ff\">None</span>, <span style=\"color: #00af00; text-decoration-color: #00af00\">256</span>)       │     <span style=\"color: #00af00; text-decoration-color: #00af00\">63,744</span> │ concatenate_1[<span style=\"color: #00af00; text-decoration-color: #00af00\">0</span>]… │\n",
              "├─────────────────────┼───────────────────┼────────────┼───────────────────┤\n",
              "│ dense_3 (<span style=\"color: #0087ff; text-decoration-color: #0087ff\">Dense</span>)     │ (<span style=\"color: #00d7ff; text-decoration-color: #00d7ff\">None</span>, <span style=\"color: #00af00; text-decoration-color: #00af00\">256</span>)       │     <span style=\"color: #00af00; text-decoration-color: #00af00\">65,792</span> │ dense_2[<span style=\"color: #00af00; text-decoration-color: #00af00\">0</span>][<span style=\"color: #00af00; text-decoration-color: #00af00\">0</span>]     │\n",
              "├─────────────────────┼───────────────────┼────────────┼───────────────────┤\n",
              "│ dense_4 (<span style=\"color: #0087ff; text-decoration-color: #0087ff\">Dense</span>)     │ (<span style=\"color: #00d7ff; text-decoration-color: #00d7ff\">None</span>, <span style=\"color: #00af00; text-decoration-color: #00af00\">216</span>)       │     <span style=\"color: #00af00; text-decoration-color: #00af00\">55,512</span> │ dense_3[<span style=\"color: #00af00; text-decoration-color: #00af00\">0</span>][<span style=\"color: #00af00; text-decoration-color: #00af00\">0</span>]     │\n",
              "├─────────────────────┼───────────────────┼────────────┼───────────────────┤\n",
              "│ reshape_1 (<span style=\"color: #0087ff; text-decoration-color: #0087ff\">Reshape</span>) │ (<span style=\"color: #00d7ff; text-decoration-color: #00d7ff\">None</span>, <span style=\"color: #00af00; text-decoration-color: #00af00\">8</span>, <span style=\"color: #00af00; text-decoration-color: #00af00\">27</span>)     │          <span style=\"color: #00af00; text-decoration-color: #00af00\">0</span> │ dense_4[<span style=\"color: #00af00; text-decoration-color: #00af00\">0</span>][<span style=\"color: #00af00; text-decoration-color: #00af00\">0</span>]     │\n",
              "├─────────────────────┼───────────────────┼────────────┼───────────────────┤\n",
              "│ activation          │ (<span style=\"color: #00d7ff; text-decoration-color: #00d7ff\">None</span>, <span style=\"color: #00af00; text-decoration-color: #00af00\">8</span>, <span style=\"color: #00af00; text-decoration-color: #00af00\">27</span>)     │          <span style=\"color: #00af00; text-decoration-color: #00af00\">0</span> │ reshape_1[<span style=\"color: #00af00; text-decoration-color: #00af00\">0</span>][<span style=\"color: #00af00; text-decoration-color: #00af00\">0</span>]   │\n",
              "│ (<span style=\"color: #0087ff; text-decoration-color: #0087ff\">Activation</span>)        │                   │            │                   │\n",
              "└─────────────────────┴───────────────────┴────────────┴───────────────────┘\n",
              "</pre>\n"
            ]
          },
          "metadata": {}
        },
        {
          "output_type": "display_data",
          "data": {
            "text/plain": [
              "\u001b[1m Total params: \u001b[0m\u001b[38;5;34m185,048\u001b[0m (722.84 KB)\n"
            ],
            "text/html": [
              "<pre style=\"white-space:pre;overflow-x:auto;line-height:normal;font-family:Menlo,'DejaVu Sans Mono',consolas,'Courier New',monospace\"><span style=\"font-weight: bold\"> Total params: </span><span style=\"color: #00af00; text-decoration-color: #00af00\">185,048</span> (722.84 KB)\n",
              "</pre>\n"
            ]
          },
          "metadata": {}
        },
        {
          "output_type": "display_data",
          "data": {
            "text/plain": [
              "\u001b[1m Trainable params: \u001b[0m\u001b[38;5;34m185,048\u001b[0m (722.84 KB)\n"
            ],
            "text/html": [
              "<pre style=\"white-space:pre;overflow-x:auto;line-height:normal;font-family:Menlo,'DejaVu Sans Mono',consolas,'Courier New',monospace\"><span style=\"font-weight: bold\"> Trainable params: </span><span style=\"color: #00af00; text-decoration-color: #00af00\">185,048</span> (722.84 KB)\n",
              "</pre>\n"
            ]
          },
          "metadata": {}
        },
        {
          "output_type": "display_data",
          "data": {
            "text/plain": [
              "\u001b[1m Non-trainable params: \u001b[0m\u001b[38;5;34m0\u001b[0m (0.00 B)\n"
            ],
            "text/html": [
              "<pre style=\"white-space:pre;overflow-x:auto;line-height:normal;font-family:Menlo,'DejaVu Sans Mono',consolas,'Courier New',monospace\"><span style=\"font-weight: bold\"> Non-trainable params: </span><span style=\"color: #00af00; text-decoration-color: #00af00\">0</span> (0.00 B)\n",
              "</pre>\n"
            ]
          },
          "metadata": {}
        },
        {
          "output_type": "display_data",
          "data": {
            "text/plain": [
              "\u001b[1mModel: \"Eve\"\u001b[0m\n"
            ],
            "text/html": [
              "<pre style=\"white-space:pre;overflow-x:auto;line-height:normal;font-family:Menlo,'DejaVu Sans Mono',consolas,'Courier New',monospace\"><span style=\"font-weight: bold\">Model: \"Eve\"</span>\n",
              "</pre>\n"
            ]
          },
          "metadata": {}
        },
        {
          "output_type": "display_data",
          "data": {
            "text/plain": [
              "┏━━━━━━━━━━━━━━━━━━━━━━━━━━━━━━━━━┳━━━━━━━━━━━━━━━━━━━━━━━━┳━━━━━━━━━━━━━━━┓\n",
              "┃\u001b[1m \u001b[0m\u001b[1mLayer (type)                   \u001b[0m\u001b[1m \u001b[0m┃\u001b[1m \u001b[0m\u001b[1mOutput Shape          \u001b[0m\u001b[1m \u001b[0m┃\u001b[1m \u001b[0m\u001b[1m      Param #\u001b[0m\u001b[1m \u001b[0m┃\n",
              "┡━━━━━━━━━━━━━━━━━━━━━━━━━━━━━━━━━╇━━━━━━━━━━━━━━━━━━━━━━━━╇━━━━━━━━━━━━━━━┩\n",
              "│ ciphertext (\u001b[38;5;33mInputLayer\u001b[0m)         │ (\u001b[38;5;45mNone\u001b[0m, \u001b[38;5;34m8\u001b[0m, \u001b[38;5;34m27\u001b[0m)          │             \u001b[38;5;34m0\u001b[0m │\n",
              "├─────────────────────────────────┼────────────────────────┼───────────────┤\n",
              "│ flatten_2 (\u001b[38;5;33mFlatten\u001b[0m)             │ (\u001b[38;5;45mNone\u001b[0m, \u001b[38;5;34m216\u001b[0m)            │             \u001b[38;5;34m0\u001b[0m │\n",
              "├─────────────────────────────────┼────────────────────────┼───────────────┤\n",
              "│ dense_5 (\u001b[38;5;33mDense\u001b[0m)                 │ (\u001b[38;5;45mNone\u001b[0m, \u001b[38;5;34m256\u001b[0m)            │        \u001b[38;5;34m55,552\u001b[0m │\n",
              "├─────────────────────────────────┼────────────────────────┼───────────────┤\n",
              "│ dense_6 (\u001b[38;5;33mDense\u001b[0m)                 │ (\u001b[38;5;45mNone\u001b[0m, \u001b[38;5;34m256\u001b[0m)            │        \u001b[38;5;34m65,792\u001b[0m │\n",
              "├─────────────────────────────────┼────────────────────────┼───────────────┤\n",
              "│ dense_7 (\u001b[38;5;33mDense\u001b[0m)                 │ (\u001b[38;5;45mNone\u001b[0m, \u001b[38;5;34m216\u001b[0m)            │        \u001b[38;5;34m55,512\u001b[0m │\n",
              "├─────────────────────────────────┼────────────────────────┼───────────────┤\n",
              "│ reshape_2 (\u001b[38;5;33mReshape\u001b[0m)             │ (\u001b[38;5;45mNone\u001b[0m, \u001b[38;5;34m8\u001b[0m, \u001b[38;5;34m27\u001b[0m)          │             \u001b[38;5;34m0\u001b[0m │\n",
              "├─────────────────────────────────┼────────────────────────┼───────────────┤\n",
              "│ activation_1 (\u001b[38;5;33mActivation\u001b[0m)       │ (\u001b[38;5;45mNone\u001b[0m, \u001b[38;5;34m8\u001b[0m, \u001b[38;5;34m27\u001b[0m)          │             \u001b[38;5;34m0\u001b[0m │\n",
              "└─────────────────────────────────┴────────────────────────┴───────────────┘\n"
            ],
            "text/html": [
              "<pre style=\"white-space:pre;overflow-x:auto;line-height:normal;font-family:Menlo,'DejaVu Sans Mono',consolas,'Courier New',monospace\">┏━━━━━━━━━━━━━━━━━━━━━━━━━━━━━━━━━┳━━━━━━━━━━━━━━━━━━━━━━━━┳━━━━━━━━━━━━━━━┓\n",
              "┃<span style=\"font-weight: bold\"> Layer (type)                    </span>┃<span style=\"font-weight: bold\"> Output Shape           </span>┃<span style=\"font-weight: bold\">       Param # </span>┃\n",
              "┡━━━━━━━━━━━━━━━━━━━━━━━━━━━━━━━━━╇━━━━━━━━━━━━━━━━━━━━━━━━╇━━━━━━━━━━━━━━━┩\n",
              "│ ciphertext (<span style=\"color: #0087ff; text-decoration-color: #0087ff\">InputLayer</span>)         │ (<span style=\"color: #00d7ff; text-decoration-color: #00d7ff\">None</span>, <span style=\"color: #00af00; text-decoration-color: #00af00\">8</span>, <span style=\"color: #00af00; text-decoration-color: #00af00\">27</span>)          │             <span style=\"color: #00af00; text-decoration-color: #00af00\">0</span> │\n",
              "├─────────────────────────────────┼────────────────────────┼───────────────┤\n",
              "│ flatten_2 (<span style=\"color: #0087ff; text-decoration-color: #0087ff\">Flatten</span>)             │ (<span style=\"color: #00d7ff; text-decoration-color: #00d7ff\">None</span>, <span style=\"color: #00af00; text-decoration-color: #00af00\">216</span>)            │             <span style=\"color: #00af00; text-decoration-color: #00af00\">0</span> │\n",
              "├─────────────────────────────────┼────────────────────────┼───────────────┤\n",
              "│ dense_5 (<span style=\"color: #0087ff; text-decoration-color: #0087ff\">Dense</span>)                 │ (<span style=\"color: #00d7ff; text-decoration-color: #00d7ff\">None</span>, <span style=\"color: #00af00; text-decoration-color: #00af00\">256</span>)            │        <span style=\"color: #00af00; text-decoration-color: #00af00\">55,552</span> │\n",
              "├─────────────────────────────────┼────────────────────────┼───────────────┤\n",
              "│ dense_6 (<span style=\"color: #0087ff; text-decoration-color: #0087ff\">Dense</span>)                 │ (<span style=\"color: #00d7ff; text-decoration-color: #00d7ff\">None</span>, <span style=\"color: #00af00; text-decoration-color: #00af00\">256</span>)            │        <span style=\"color: #00af00; text-decoration-color: #00af00\">65,792</span> │\n",
              "├─────────────────────────────────┼────────────────────────┼───────────────┤\n",
              "│ dense_7 (<span style=\"color: #0087ff; text-decoration-color: #0087ff\">Dense</span>)                 │ (<span style=\"color: #00d7ff; text-decoration-color: #00d7ff\">None</span>, <span style=\"color: #00af00; text-decoration-color: #00af00\">216</span>)            │        <span style=\"color: #00af00; text-decoration-color: #00af00\">55,512</span> │\n",
              "├─────────────────────────────────┼────────────────────────┼───────────────┤\n",
              "│ reshape_2 (<span style=\"color: #0087ff; text-decoration-color: #0087ff\">Reshape</span>)             │ (<span style=\"color: #00d7ff; text-decoration-color: #00d7ff\">None</span>, <span style=\"color: #00af00; text-decoration-color: #00af00\">8</span>, <span style=\"color: #00af00; text-decoration-color: #00af00\">27</span>)          │             <span style=\"color: #00af00; text-decoration-color: #00af00\">0</span> │\n",
              "├─────────────────────────────────┼────────────────────────┼───────────────┤\n",
              "│ activation_1 (<span style=\"color: #0087ff; text-decoration-color: #0087ff\">Activation</span>)       │ (<span style=\"color: #00d7ff; text-decoration-color: #00d7ff\">None</span>, <span style=\"color: #00af00; text-decoration-color: #00af00\">8</span>, <span style=\"color: #00af00; text-decoration-color: #00af00\">27</span>)          │             <span style=\"color: #00af00; text-decoration-color: #00af00\">0</span> │\n",
              "└─────────────────────────────────┴────────────────────────┴───────────────┘\n",
              "</pre>\n"
            ]
          },
          "metadata": {}
        },
        {
          "output_type": "display_data",
          "data": {
            "text/plain": [
              "\u001b[1m Total params: \u001b[0m\u001b[38;5;34m176,856\u001b[0m (690.84 KB)\n"
            ],
            "text/html": [
              "<pre style=\"white-space:pre;overflow-x:auto;line-height:normal;font-family:Menlo,'DejaVu Sans Mono',consolas,'Courier New',monospace\"><span style=\"font-weight: bold\"> Total params: </span><span style=\"color: #00af00; text-decoration-color: #00af00\">176,856</span> (690.84 KB)\n",
              "</pre>\n"
            ]
          },
          "metadata": {}
        },
        {
          "output_type": "display_data",
          "data": {
            "text/plain": [
              "\u001b[1m Trainable params: \u001b[0m\u001b[38;5;34m176,856\u001b[0m (690.84 KB)\n"
            ],
            "text/html": [
              "<pre style=\"white-space:pre;overflow-x:auto;line-height:normal;font-family:Menlo,'DejaVu Sans Mono',consolas,'Courier New',monospace\"><span style=\"font-weight: bold\"> Trainable params: </span><span style=\"color: #00af00; text-decoration-color: #00af00\">176,856</span> (690.84 KB)\n",
              "</pre>\n"
            ]
          },
          "metadata": {}
        },
        {
          "output_type": "display_data",
          "data": {
            "text/plain": [
              "\u001b[1m Non-trainable params: \u001b[0m\u001b[38;5;34m0\u001b[0m (0.00 B)\n"
            ],
            "text/html": [
              "<pre style=\"white-space:pre;overflow-x:auto;line-height:normal;font-family:Menlo,'DejaVu Sans Mono',consolas,'Courier New',monospace\"><span style=\"font-weight: bold\"> Non-trainable params: </span><span style=\"color: #00af00; text-decoration-color: #00af00\">0</span> (0.00 B)\n",
              "</pre>\n"
            ]
          },
          "metadata": {}
        }
      ]
    },
    {
      "cell_type": "code",
      "source": [
        "# Loss function: categorical crossentropy per position averaged\n",
        "cat_loss = losses.CategoricalCrossentropy()\n",
        "\n",
        "\n",
        "# For logging\n",
        "history = {'bob_loss': [], 'eve_loss': [], 'alice_loss': [], 'bob_acc': [], 'eve_acc': []}"
      ],
      "metadata": {
        "id": "hnUYidWqlO3E"
      },
      "execution_count": null,
      "outputs": []
    },
    {
      "cell_type": "code",
      "source": [
        "# ------------------------------\n",
        "# Training loop (alternating updates)\n",
        "# ------------------------------\n",
        "\n",
        "train_dataset = tf.data.Dataset.from_tensor_slices((X_train, K_train, X_train))  # use one-hot as labels\n",
        "train_dataset = train_dataset.shuffle(10000).batch(BATCH_SIZE)\n",
        "\n",
        "val_dataset = tf.data.Dataset.from_tensor_slices((X_val, K_val, X_val)).batch(BATCH_SIZE)\n",
        "\n",
        "for epoch in range(EPOCHS):\n",
        "    epoch_bob_losses = []\n",
        "    epoch_eve_losses = []\n",
        "    epoch_alice_losses = []\n",
        "    epoch_bob_accs = []\n",
        "    epoch_eve_accs = []\n",
        "\n",
        "    for step, (x_batch, k_batch, y_batch) in enumerate(train_dataset):\n",
        "        # 1) Train Alice+Bob (freeze Eve)\n",
        "        for _ in range(ALICE_BOB_STEPS):\n",
        "            with tf.GradientTape() as tape:\n",
        "                # Alice encrypts\n",
        "                ct = alice([x_batch, k_batch], training=True)\n",
        "                # Bob decrypts\n",
        "                bob_pred = bob([ct, k_batch], training=True)\n",
        "                # Eve predicts (no gradient for Eve in this step)\n",
        "                eve_pred = eve(ct, training=False)\n",
        "\n",
        "                bob_loss = cat_loss(y_batch, bob_pred)\n",
        "                eve_loss = cat_loss(y_batch, eve_pred)\n",
        "                alice_loss = bob_loss - LAMBDA * eve_loss\n",
        "\n",
        "            vars_ab = alice.trainable_variables + bob.trainable_variables\n",
        "            grads = tape.gradient(alice_loss, vars_ab)\n",
        "            if grads is not None:\n",
        "                opt_ab.apply_gradients(zip(grads, vars_ab))\n",
        "\n",
        "            epoch_bob_losses.append(float(bob_loss.numpy()))\n",
        "            epoch_eve_losses.append(float(eve_loss.numpy()))\n",
        "            epoch_alice_losses.append(float(alice_loss.numpy()))\n",
        "\n",
        "        # 2) Train Eve (freeze Alice+Bob)\n",
        "        for _ in range(EVE_STEPS):\n",
        "            with tf.GradientTape() as tape_e:\n",
        "                ct = alice([x_batch, k_batch], training=False)\n",
        "                eve_pred = eve(ct, training=True)\n",
        "                eve_loss_step = cat_loss(y_batch, eve_pred)\n",
        "            grads_e = tape_e.gradient(eve_loss_step, eve.trainable_variables)\n",
        "            if grads_e is not None:\n",
        "                opt_e.apply_gradients(zip(grads_e, eve.trainable_variables))\n",
        "            epoch_eve_losses.append(float(eve_loss_step.numpy()))\n",
        "\n",
        "        # Compute accuracies for logging using latest preds\n",
        "        ct_for_eval = alice([x_batch, k_batch], training=False)\n",
        "        bob_out = bob([ct_for_eval, k_batch], training=False).numpy()\n",
        "        eve_out = eve(ct_for_eval, training=False).numpy()\n",
        "\n",
        "        y_true_ints = onehot_to_ints(y_batch.numpy())\n",
        "        bob_pred_ints = onehot_to_ints(bob_out)\n",
        "        eve_pred_ints = onehot_to_ints(eve_out)\n",
        "\n",
        "        epoch_bob_accs.append(char_accuracy(y_true_ints, bob_pred_ints))\n",
        "        epoch_eve_accs.append(char_accuracy(y_true_ints, eve_pred_ints))\n",
        "\n",
        "    # End epoch: compute averages\n",
        "    h_bob_loss = np.mean(epoch_bob_losses)\n",
        "    h_eve_loss = np.mean(epoch_eve_losses)\n",
        "    h_alice_loss = np.mean(epoch_alice_losses) if len(epoch_alice_losses) > 0 else 0\n",
        "    h_bob_acc = np.mean(epoch_bob_accs)\n",
        "    h_eve_acc = np.mean(epoch_eve_accs)\n",
        "\n",
        "    history['bob_loss'].append(h_bob_loss)\n",
        "    history['eve_loss'].append(h_eve_loss)\n",
        "    history['alice_loss'].append(h_alice_loss)\n",
        "    history['bob_acc'].append(h_bob_acc)\n",
        "    history['eve_acc'].append(h_eve_acc)\n",
        "\n",
        "    print(f\"Epoch {epoch+1}/{EPOCHS} — Bob loss: {h_bob_loss:.4f}, Eve loss: {h_eve_loss:.4f}, Bob acc: {h_bob_acc:.4f}, Eve acc: {h_eve_acc:.4f}\")\n",
        "\n",
        "    # Validation check (optional)\n",
        "    val_b_accs = []\n",
        "    val_e_accs = []\n",
        "    for x_val_b, k_val_b, y_val_b in val_dataset:\n",
        "        ct_val = alice([x_val_b, k_val_b], training=False)\n",
        "        bob_v = bob([ct_val, k_val_b], training=False).numpy()\n",
        "        eve_v = eve(ct_val, training=False).numpy()\n",
        "        bob_v_int = onehot_to_ints(bob_v)\n",
        "        eve_v_int = onehot_to_ints(eve_v)\n",
        "        y_val_ints = onehot_to_ints(y_val_b.numpy())\n",
        "        val_b_accs.append(char_accuracy(y_val_ints, bob_v_int))\n",
        "        val_e_accs.append(char_accuracy(y_val_ints, eve_v_int))\n",
        "    print(f\"  Val — Bob acc: {np.mean(val_b_accs):.4f}, Eve acc: {np.mean(val_e_accs):.4f}\")"
      ],
      "metadata": {
        "colab": {
          "base_uri": "https://localhost:8080/"
        },
        "id": "AnbxXbjRlQ40",
        "outputId": "f3cbc275-c25b-4bc3-ea9c-929f15aaf255"
      },
      "execution_count": null,
      "outputs": [
        {
          "output_type": "stream",
          "name": "stdout",
          "text": [
            "Epoch 1/30 — Bob loss: 2.8096, Eve loss: 3.1921, Bob acc: 0.2181, Eve acc: 0.0907\n",
            "  Val — Bob acc: 0.4585, Eve acc: 0.1945\n",
            "Epoch 2/30 — Bob loss: 1.5133, Eve loss: 2.7919, Bob acc: 0.5914, Eve acc: 0.2181\n",
            "  Val — Bob acc: 0.6208, Eve acc: 0.2161\n",
            "Epoch 3/30 — Bob loss: 1.1688, Eve loss: 2.6671, Bob acc: 0.6903, Eve acc: 0.2465\n",
            "  Val — Bob acc: 0.6532, Eve acc: 0.2405\n",
            "Epoch 4/30 — Bob loss: 1.0279, Eve loss: 2.6039, Bob acc: 0.7324, Eve acc: 0.2586\n",
            "  Val — Bob acc: 0.6920, Eve acc: 0.2528\n",
            "Epoch 5/30 — Bob loss: 0.9315, Eve loss: 2.5612, Bob acc: 0.7590, Eve acc: 0.2665\n",
            "  Val — Bob acc: 0.7102, Eve acc: 0.2643\n",
            "Epoch 6/30 — Bob loss: 0.8791, Eve loss: 2.5465, Bob acc: 0.7689, Eve acc: 0.2704\n",
            "  Val — Bob acc: 0.7184, Eve acc: 0.2466\n",
            "Epoch 7/30 — Bob loss: 0.8247, Eve loss: 2.6194, Bob acc: 0.7842, Eve acc: 0.2499\n",
            "  Val — Bob acc: 0.7306, Eve acc: 0.2311\n",
            "Epoch 8/30 — Bob loss: 0.7754, Eve loss: 2.6209, Bob acc: 0.7957, Eve acc: 0.2490\n",
            "  Val — Bob acc: 0.7413, Eve acc: 0.2365\n",
            "Epoch 9/30 — Bob loss: 0.7458, Eve loss: 2.6538, Bob acc: 0.8028, Eve acc: 0.2389\n",
            "  Val — Bob acc: 0.7396, Eve acc: 0.2303\n",
            "Epoch 10/30 — Bob loss: 0.7367, Eve loss: 2.6740, Bob acc: 0.8009, Eve acc: 0.2321\n",
            "  Val — Bob acc: 0.7398, Eve acc: 0.2249\n",
            "Epoch 11/30 — Bob loss: 0.6879, Eve loss: 2.6923, Bob acc: 0.8162, Eve acc: 0.2272\n",
            "  Val — Bob acc: 0.7089, Eve acc: 0.2012\n",
            "Epoch 12/30 — Bob loss: 0.6920, Eve loss: 2.7159, Bob acc: 0.8125, Eve acc: 0.2199\n",
            "  Val — Bob acc: 0.7411, Eve acc: 0.2119\n",
            "Epoch 13/30 — Bob loss: 0.6654, Eve loss: 2.7129, Bob acc: 0.8182, Eve acc: 0.2221\n",
            "  Val — Bob acc: 0.7415, Eve acc: 0.2103\n",
            "Epoch 14/30 — Bob loss: 0.6491, Eve loss: 2.7180, Bob acc: 0.8215, Eve acc: 0.2173\n",
            "  Val — Bob acc: 0.7460, Eve acc: 0.2070\n",
            "Epoch 15/30 — Bob loss: 0.6330, Eve loss: 2.7374, Bob acc: 0.8249, Eve acc: 0.2134\n",
            "  Val — Bob acc: 0.7578, Eve acc: 0.2035\n",
            "Epoch 16/30 — Bob loss: 0.6107, Eve loss: 2.7543, Bob acc: 0.8302, Eve acc: 0.2102\n",
            "  Val — Bob acc: 0.7628, Eve acc: 0.1989\n",
            "Epoch 17/30 — Bob loss: 0.5690, Eve loss: 2.7471, Bob acc: 0.8437, Eve acc: 0.2108\n",
            "  Val — Bob acc: 0.7790, Eve acc: 0.2019\n",
            "Epoch 18/30 — Bob loss: 0.5386, Eve loss: 2.7657, Bob acc: 0.8538, Eve acc: 0.2039\n",
            "  Val — Bob acc: 0.7800, Eve acc: 0.1929\n",
            "Epoch 19/30 — Bob loss: 0.5134, Eve loss: 2.7782, Bob acc: 0.8622, Eve acc: 0.1980\n",
            "  Val — Bob acc: 0.7869, Eve acc: 0.1853\n",
            "Epoch 20/30 — Bob loss: 0.4842, Eve loss: 2.8012, Bob acc: 0.8711, Eve acc: 0.1919\n",
            "  Val — Bob acc: 0.8052, Eve acc: 0.1819\n",
            "Epoch 21/30 — Bob loss: 0.4637, Eve loss: 2.8053, Bob acc: 0.8774, Eve acc: 0.1890\n",
            "  Val — Bob acc: 0.8123, Eve acc: 0.1701\n",
            "Epoch 22/30 — Bob loss: 0.4325, Eve loss: 2.8472, Bob acc: 0.8873, Eve acc: 0.1785\n",
            "  Val — Bob acc: 0.8319, Eve acc: 0.1715\n",
            "Epoch 23/30 — Bob loss: 0.3867, Eve loss: 2.8462, Bob acc: 0.9047, Eve acc: 0.1774\n",
            "  Val — Bob acc: 0.8191, Eve acc: 0.1518\n",
            "Epoch 24/30 — Bob loss: 0.3521, Eve loss: 2.8754, Bob acc: 0.9163, Eve acc: 0.1682\n",
            "  Val — Bob acc: 0.8666, Eve acc: 0.1634\n",
            "Epoch 25/30 — Bob loss: 0.3240, Eve loss: 2.8693, Bob acc: 0.9256, Eve acc: 0.1697\n",
            "  Val — Bob acc: 0.8583, Eve acc: 0.1493\n",
            "Epoch 26/30 — Bob loss: 0.3108, Eve loss: 2.8930, Bob acc: 0.9279, Eve acc: 0.1624\n",
            "  Val — Bob acc: 0.8519, Eve acc: 0.1407\n",
            "Epoch 27/30 — Bob loss: 0.2913, Eve loss: 2.8906, Bob acc: 0.9346, Eve acc: 0.1615\n",
            "  Val — Bob acc: 0.8794, Eve acc: 0.1470\n",
            "Epoch 28/30 — Bob loss: 0.2712, Eve loss: 2.9156, Bob acc: 0.9412, Eve acc: 0.1537\n",
            "  Val — Bob acc: 0.8774, Eve acc: 0.1452\n",
            "Epoch 29/30 — Bob loss: 0.2531, Eve loss: 2.9205, Bob acc: 0.9480, Eve acc: 0.1521\n",
            "  Val — Bob acc: 0.8980, Eve acc: 0.1322\n",
            "Epoch 30/30 — Bob loss: 0.2410, Eve loss: 2.9299, Bob acc: 0.9511, Eve acc: 0.1492\n",
            "  Val — Bob acc: 0.8943, Eve acc: 0.1344\n"
          ]
        }
      ]
    },
    {
      "cell_type": "code",
      "source": [
        "# ------------------------------\n",
        "# Final evaluation on test set\n",
        "# ------------------------------\n",
        "\n",
        "test_dataset = tf.data.Dataset.from_tensor_slices((X_test, K_test, y_test)).batch(BATCH_SIZE)\n",
        "all_b_accs = []\n",
        "all_e_accs = []\n",
        "for x_t, k_t, y_t in test_dataset:\n",
        "    ct_t = alice([x_t, k_t], training=False)\n",
        "    bob_t = bob([ct_t, k_t], training=False).numpy()\n",
        "    eve_t = eve(ct_t, training=False).numpy()\n",
        "    all_b_accs.append(char_accuracy(y_t.numpy(), onehot_to_ints(bob_t)))\n",
        "    all_e_accs.append(char_accuracy(y_t.numpy(), onehot_to_ints(eve_t)))\n",
        "\n",
        "print('\\nFinal Test Results:')\n",
        "print('Bob accuracy (per character):', np.mean(all_b_accs))\n",
        "print('Eve accuracy (per character):', np.mean(all_e_accs))"
      ],
      "metadata": {
        "colab": {
          "base_uri": "https://localhost:8080/"
        },
        "id": "mnv6mFOdlk52",
        "outputId": "3afdc79c-66db-4db4-d984-e37684a59733"
      },
      "execution_count": null,
      "outputs": [
        {
          "output_type": "stream",
          "name": "stdout",
          "text": [
            "\n",
            "Final Test Results:\n",
            "Bob accuracy (per character): 0.8938976469494048\n",
            "Eve accuracy (per character): 0.1385498046875\n"
          ]
        }
      ]
    },
    {
      "cell_type": "code",
      "source": [
        "# ------------------------------\n",
        "# Plots\n",
        "# ------------------------------\n",
        "\n",
        "plt.figure(figsize=(10,4))\n",
        "plt.subplot(1,2,1)\n",
        "plt.plot(history['bob_acc'], label='Bob acc')\n",
        "plt.plot(history['eve_acc'], label='Eve acc')\n",
        "plt.title('Accuracies')\n",
        "plt.xlabel('Epoch')\n",
        "plt.legend()\n",
        "\n",
        "plt.subplot(1,2,2)\n",
        "plt.plot(history['bob_loss'], label='Bob loss')\n",
        "plt.plot(history['eve_loss'], label='Eve loss')\n",
        "plt.title('Losses')\n",
        "plt.xlabel('Epoch')\n",
        "plt.legend()\n",
        "plt.tight_layout()\n",
        "plt.show()"
      ],
      "metadata": {
        "colab": {
          "base_uri": "https://localhost:8080/",
          "height": 407
        },
        "id": "qUu0ERMDloOE",
        "outputId": "7677d3e6-fe62-45d3-fe05-b5feea004b80"
      },
      "execution_count": null,
      "outputs": [
        {
          "output_type": "display_data",
          "data": {
            "text/plain": [
              "<Figure size 1000x400 with 2 Axes>"
            ],
            "image/png": "[encoded data removed]"
          },
          "metadata": {}
        }
      ]
    },
    {
      "cell_type": "code",
      "source": [
        "# ------------------------------\n",
        "# Example test case: visualize Alice->Bob/Eve\n",
        "# ------------------------------\n",
        "\n",
        "def ints_to_text(int_arr):\n",
        "    return ''.join([IDX_TO_CHAR[i] for i in int_arr])\n",
        "\n",
        "# Take one random test sample\n",
        "idx = np.random.randint(0, len(X_test))\n",
        "msg_true_onehot = X_test[idx:idx+1]\n",
        "msg_true_ints = onehot_to_ints(msg_true_onehot)\n",
        "msg_text = ints_to_text(msg_true_ints[0])\n",
        "\n",
        "key_true = K_test[idx:idx+1]\n",
        "\n",
        "# Alice encrypts\n",
        "ct = alice([msg_true_onehot, key_true], training=False).numpy()\n",
        "# Bob decrypts\n",
        "bob_out = bob([ct, key_true], training=False).numpy()\n",
        "# Eve tries\n",
        "eve_out = eve(ct, training=False).numpy()\n",
        "\n",
        "bob_ints = onehot_to_ints(bob_out)\n",
        "eve_ints = onehot_to_ints(eve_out)\n",
        "\n",
        "bob_text = ints_to_text(bob_ints[0])\n",
        "eve_text = ints_to_text(eve_ints[0])\n",
        "\n",
        "print(\"Original message (Alice input):\", msg_text)\n",
        "print(\"Ciphertext (Alice output, rounded):\\n\", np.round(ct[0], 2))\n",
        "print(\"Bob's decrypted message:\", bob_text)\n",
        "print(\"Eve's guessed message:\", eve_text)"
      ],
      "metadata": {
        "colab": {
          "base_uri": "https://localhost:8080/"
        },
        "id": "1MH-wPtwmMex",
        "outputId": "a3f7bf0f-6449-40dd-8fe1-784d89017b35"
      },
      "execution_count": null,
      "outputs": [
        {
          "output_type": "stream",
          "name": "stdout",
          "text": [
            "Original message (Alice input): fqlkmlty\n",
            "Ciphertext (Alice output, rounded):\n",
            " [[ 0.19 -0.48  0.98  0.16 -0.61 -0.52 -0.45 -0.08  0.53  0.39  0.28  0.68\n",
            "  -0.95  0.96 -0.76 -0.89  0.76  0.39  0.63 -0.36 -0.06  0.79 -0.05  0.78\n",
            "  -0.65  0.17 -0.19]\n",
            " [ 0.89  1.   -0.98  0.58 -0.    0.45  0.24 -0.82  0.73 -0.95  0.41 -0.55\n",
            "   0.45 -0.35 -0.73  0.74 -0.5   0.9   0.14  0.05  0.95  0.97 -0.48 -0.49\n",
            "  -0.8  -0.96 -0.67]\n",
            " [-0.94 -0.4   0.22  0.43 -0.1  -0.71  0.24 -0.38  0.56  0.45 -0.3   0.72\n",
            "   0.85  0.12 -0.2  -0.93 -0.58 -0.4  -0.03 -0.65  0.72  0.78  0.67  0.12\n",
            "  -0.95  0.04 -0.94]\n",
            " [ 0.46 -1.   -0.93  0.93 -0.31 -0.87  0.5   0.15  0.39  0.23 -0.29  0.69\n",
            "  -0.09  0.44 -0.7  -0.03 -0.27  0.97 -0.27  0.32  0.03  0.31  0.97  0.25\n",
            "   0.89 -0.94 -0.96]\n",
            " [ 0.29 -0.38  0.56 -0.83 -0.26 -0.23  0.83  0.87 -0.39  0.07 -0.89  0.38\n",
            "   0.35  0.94  0.92 -0.04 -0.42 -0.39 -0.38  0.89  0.9  -0.15  0.13 -0.57\n",
            "   0.91 -0.84 -0.93]\n",
            " [-0.37 -0.98  0.51  0.94  0.85 -0.11 -0.38 -0.12 -0.07 -0.23  0.95 -0.22\n",
            "  -0.1   0.96  0.72 -0.98  0.4  -0.95  0.04  0.11 -0.15  0.86  0.33 -0.93\n",
            "   0.25 -0.74  0.39]\n",
            " [-0.08  0.05 -0.27 -0.89  0.97 -0.67 -0.62  0.84 -0.96 -0.57  0.09  0.11\n",
            "  -0.29 -0.9  -0.89  0.39 -0.96 -0.44 -0.03 -0.54 -0.08 -0.17 -0.72 -0.53\n",
            "   0.13 -0.95  0.86]\n",
            " [ 0.99 -0.83 -0.96 -0.08  0.6   0.19 -0.14  0.57  0.59 -0.93  0.58 -0.06\n",
            "   0.19  0.04  0.01 -0.92 -0.08  0.86  0.75 -0.43 -0.63  0.29 -0.96  0.5\n",
            "   0.7  -0.1   0.98]]\n",
            "Bob's decrypted message: iqlkmlty\n",
            "Eve's guessed message: byhimcrh\n"
          ]
        }
      ]
    },
    {
      "cell_type": "code",
      "source": [],
      "metadata": {
        "id": "6mSZk9-Gmi1Y"
      },
      "execution_count": null,
      "outputs": []
    },
    {
      "cell_type": "code",
      "source": [],
      "metadata": {
        "id": "7yHgJ2MymMbT"
      },
      "execution_count": null,
      "outputs": []
    },
    {
      "cell_type": "code",
      "source": [
        "# ------------------------------\n",
        "# Save models\n",
        "# ------------------------------\n",
        "\n",
        "os.makedirs('saved_models', exist_ok=True)\n",
        "alice.save('saved_models/alice.h5')\n",
        "bob.save('saved_models/bob.h5')\n",
        "eve.save('saved_models/eve.h5')\n",
        "\n",
        "print('Models saved to ./saved_models')\n"
      ],
      "metadata": {
        "colab": {
          "base_uri": "https://localhost:8080/"
        },
        "id": "yCHcKAzulqCn",
        "outputId": "65abb134-2f77-4389-ba96-7fda950ef0af"
      },
      "execution_count": null,
      "outputs": [
        {
          "output_type": "stream",
          "name": "stderr",
          "text": [
            "WARNING:absl:You are saving your model as an HDF5 file via `model.save()` or `keras.saving.save_model(model)`. This file format is considered legacy. We recommend using instead the native Keras format, e.g. `model.save('my_model.keras')` or `keras.saving.save_model(model, 'my_model.keras')`. \n",
            "WARNING:absl:You are saving your model as an HDF5 file via `model.save()` or `keras.saving.save_model(model)`. This file format is considered legacy. We recommend using instead the native Keras format, e.g. `model.save('my_model.keras')` or `keras.saving.save_model(model, 'my_model.keras')`. \n",
            "WARNING:absl:You are saving your model as an HDF5 file via `model.save()` or `keras.saving.save_model(model)`. This file format is considered legacy. We recommend using instead the native Keras format, e.g. `model.save('my_model.keras')` or `keras.saving.save_model(model, 'my_model.keras')`. \n"
          ]
        },
        {
          "output_type": "stream",
          "name": "stdout",
          "text": [
            "Models saved to ./saved_models\n"
          ]
        }
      ]
    },
    {
      "cell_type": "code",
      "source": [],
      "metadata": {
        "id": "xA6DnXtMlr-n"
      },
      "execution_count": null,
      "outputs": []
    }
  ]
}